{
  "cells": [
    {
      "cell_type": "markdown",
      "metadata": {
        "id": "Zd5Pq7qKW-WD"
      },
      "source": [
        "**DSA ASSIGNMENT**\n",
        "\n",
        "\n",
        " * NAME     : Kishore DT\n",
        " * ROLL No. : CH.EN.U4CYS20039\n",
        "\n",
        "\n",
        "\n",
        "\n",
        "\n"
      ]
    },
    {
      "cell_type": "markdown",
      "metadata": {
        "id": "BnB1HNoiK6v8"
      },
      "source": [
        "Implement Heap tree using Priority Queue"
      ]
    },
    {
      "cell_type": "code",
      "execution_count": 1,
      "metadata": {
        "colab": {
          "base_uri": "https://localhost:8080/"
        },
        "id": "aK8goMFkE1nv",
        "outputId": "6c2abe31-a79f-497d-c026-13ab5297c3ff"
      },
      "outputs": [
        {
          "name": "stdout",
          "output_type": "stream",
          "text": [
            "priority queue: \n",
            "[5, 35, 10, 80, 45, 95, 40]\n",
            "priority queue after deleting 2 elements: \n",
            "[35, 45, 40, 80, 95]\n"
          ]
        }
      ],
      "source": [
        "import heapq \n",
        "class PriorityQueue:\n",
        "    def __init__(self, elements = None):\n",
        "      if(elements == None):\n",
        "        self.elements = list()\n",
        "      elif type(elements) == list:\n",
        "        heapq.heapify(elements)\n",
        "        self.elements = elements\n",
        "        \n",
        "    def __str__(self):\n",
        "        return str(self.elements)\n",
        "  \n",
        "    def isEmpty(self):\n",
        "        return len(self.elements) == 0\n",
        "  \n",
        "    def push(self, element):\n",
        "        heapq.heappush(self.elements, element)\n",
        "\n",
        "    def pop(self):\n",
        "        heapq.heappop(self.elements)\n",
        "\n",
        "q = PriorityQueue()\n",
        "q.push(35)\n",
        "q.push(80)\n",
        "q.push(95)\n",
        "q.push(45)\n",
        "q.push(5)\n",
        "q.push(10)\n",
        "q.push(40)\n",
        "print(\"priority queue: \")\n",
        "print(q) \n",
        "q.pop()\n",
        "q.pop()\n",
        "print(\"priority queue after deleting 2 elements: \")\n",
        "print(q)"
      ]
    },
    {
      "cell_type": "markdown",
      "metadata": {
        "id": "ueRQokesLTfR"
      },
      "source": [
        "Implement the hash table for the following elements 22,32,45,67, 89, 9\n",
        "Use Double Hashing technique to handle the collision."
      ]
    },
    {
      "cell_type": "code",
      "execution_count": 2,
      "metadata": {
        "colab": {
          "base_uri": "https://localhost:8080/"
        },
        "id": "FCjEaxooyRP8",
        "outputId": "787a2de7-7fbf-42d7-b1da-d754ed80d7c4"
      },
      "outputs": [
        {
          "name": "stdout",
          "output_type": "stream",
          "text": [
            "Element 22 at position 2\n",
            "Collision has occured for element 32 at position 2 finding new Position.\n",
            "Element 45 at position 5\n",
            "Element 67 at position 7\n",
            "Element 89 at position 9\n",
            "Collision has occured for element 9 at position 9 finding new Position.\n",
            "\n",
            "\n",
            "0 = 0\n",
            "1 = 9\n",
            "2 = 22\n",
            "3 = 0\n",
            "4 = 0\n",
            "5 = 45\n",
            "6 = 32\n",
            "7 = 67\n",
            "8 = 0\n",
            "9 = 89\n",
            "The number of element is the Table are : 6\n",
            "\n",
            "The position of element 89 is : 9\n",
            "\n",
            "Total number of comaprisons done for searching = 1\n",
            "\n",
            "Element 45 is Deleted\n",
            "\n",
            "\n",
            "0 = 0\n",
            "1 = 9\n",
            "2 = 22\n",
            "3 = 0\n",
            "4 = 0\n",
            "5 = 0\n",
            "6 = 32\n",
            "7 = 67\n",
            "8 = 0\n",
            "9 = 89\n",
            "The number of element is the Table are : 5\n"
          ]
        }
      ],
      "source": [
        "class doubleHashTable:\n",
        "    def __init__(self):\n",
        "        self.size = int(input(\"Enter the Size of the hash table : \"))\n",
        "        self.num = 5\n",
        "        self.table = list(0 for i in range(self.size))\n",
        "        self.elementCount = 0\n",
        "        self.comparisons = 0\n",
        "   \n",
        "    def isFull(self):\n",
        "        if self.elementCount == self.size:\n",
        "            return True\n",
        "        else:\n",
        "            return False\n",
        "   \n",
        "    def h1(self, element):\n",
        "        return element % self.size\n",
        "       \n",
        "    def h2(self, element):\n",
        "        return element % self.num\n",
        "           \n",
        "    def doubleHashing(self, element, position):\n",
        "        posFound = False\n",
        "        limit = 50\n",
        "        i = 2\n",
        "        while i <= limit:\n",
        "            newPosition = (i*self.h1(element) + self.h2(element)) % self.size\n",
        "            if self.table[newPosition] == 0:\n",
        "                posFound = True\n",
        "                break\n",
        "            else:\n",
        "                i += 1\n",
        "        return posFound, newPosition\n",
        " \n",
        "    def insert(self, element):\n",
        "        if self.isFull():\n",
        "            print(\"Hash Table Full\")\n",
        "            return False\n",
        "        posFound = False\n",
        "        position = self.h1(element)\n",
        "        if self.table[position] == 0:\n",
        "            self.table[position] = element\n",
        "            print(\"Element \" + str(element) + \" at position \" + str(position))\n",
        "            isStored = True\n",
        "            self.elementCount += 1\n",
        "        else:\n",
        "            while not posFound:\n",
        "                print(\"Collision has occured for element \" + str(element) + \" at position \" + str(position) + \" finding new Position.\")\n",
        "                posFound, position = self.doubleHashing(element, position)\n",
        "                if posFound:\n",
        "                    self.table[position] = element\n",
        "                    self.elementCount += 1\n",
        "        return posFound\n",
        "       \n",
        "    def search(self, element):\n",
        "        found = False\n",
        "        position = self.h1(element)\n",
        "        self.comparisons += 1\n",
        "        if(self.table[position] == element):\n",
        "            return position\n",
        "        else:\n",
        "            limit = 50\n",
        "            i = 2\n",
        "            newPosition = position\n",
        "            while i <= limit:\n",
        "                position = (i*self.h1(element) + self.h2(element)) % self.size\n",
        "                self.comparisons += 1\n",
        "                if self.table[position] == element:\n",
        "                    found = True\n",
        "                    break\n",
        "                elif self.table[position] == 0:\n",
        "                    found = False\n",
        "                    break\n",
        "                else:\n",
        "                    i += 1\n",
        "            if found:\n",
        "                return position\n",
        "            else:\n",
        "                print(\"Element not Found\")\n",
        "                return found           \n",
        "       \n",
        "    def remove(self, element):\n",
        "        position = self.search(element)\n",
        "        if position is not False:\n",
        "            self.table[position] = 0\n",
        "            print(\"Element \" + str(element) + \" is Deleted\")\n",
        "            self.elementCount -= 1\n",
        "        else:\n",
        "            print(\"Element is not present in the Hash Table\")\n",
        "        return\n",
        "       \n",
        "    def display(self):\n",
        "        print(\"\\n\")\n",
        "        for i in range(self.size):\n",
        "            print(str(i) + \" = \" + str(self.table[i]))\n",
        "        print(\"The number of element is the Table are : \" + str(self.elementCount))\n",
        "       \n",
        "table1 = doubleHashTable()\n",
        "table1.insert(22)\n",
        "table1.insert(32)\n",
        "table1.insert(45)\n",
        "table1.insert(67)\n",
        "table1.insert(89)\n",
        "table1.insert(9)\n",
        "table1.display()\n",
        "print()\n",
        "print(\"The position of element 89 is : \" + str(table1.search(89)))\n",
        "print(\"\\nTotal number of comaprisons done for searching = \" + str(table1.comparisons))\n",
        "print()\n",
        " \n",
        "table1.remove(45)\n",
        " \n",
        "table1.display()"
      ]
    }
  ],
  "metadata": {
    "colab": {
      "collapsed_sections": [],
      "name": "DSA_ASSIGNMENT_20007",
      "provenance": []
    },
    "interpreter": {
      "hash": "89f2b256280cb31d20095b046de3e770be7e9263210aba677fb338d9cab3bfa1"
    },
    "kernelspec": {
      "display_name": "Python 3.10.4 64-bit",
      "language": "python",
      "name": "python3"
    },
    "language_info": {
      "codemirror_mode": {
        "name": "ipython",
        "version": 3
      },
      "file_extension": ".py",
      "mimetype": "text/x-python",
      "name": "python",
      "nbconvert_exporter": "python",
      "pygments_lexer": "ipython3",
      "version": "3.10.4"
    }
  },
  "nbformat": 4,
  "nbformat_minor": 0
}
